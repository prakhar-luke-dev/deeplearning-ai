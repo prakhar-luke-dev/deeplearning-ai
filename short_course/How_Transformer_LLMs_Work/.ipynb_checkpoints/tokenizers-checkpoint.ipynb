{
 "cells": [
  {
   "cell_type": "markdown",
   "id": "c3ab6cc5",
   "metadata": {},
   "source": [
    "# Comparing Trained LLM Tokenizers"
   ]
  },
  {
   "cell_type": "code",
   "execution_count": 1,
   "id": "a6e3a7f6",
   "metadata": {},
   "outputs": [],
   "source": [
    "# !pip install transformers>=4.46.1"
   ]
  },
  {
   "cell_type": "markdown",
   "id": "75f66ba7",
   "metadata": {},
   "source": [
    "## Tokenizing Text"
   ]
  },
  {
   "cell_type": "markdown",
   "id": "648242f6",
   "metadata": {},
   "source": [
    "Tokenize `\"Hello World!\"` using tokenizer of `bert-base-cased` model"
   ]
  },
  {
   "cell_type": "code",
   "execution_count": 4,
   "id": "9b24e945",
   "metadata": {},
   "outputs": [
    {
     "name": "stderr",
     "output_type": "stream",
     "text": [
      "None of PyTorch, TensorFlow >= 2.0, or Flax have been found. Models won't be available and only tokenizers, configuration and file/data utilities can be used.\n"
     ]
    }
   ],
   "source": [
    "from transformers import AutoTokenizer"
   ]
  },
  {
   "cell_type": "code",
   "execution_count": 5,
   "id": "cfc028fa",
   "metadata": {},
   "outputs": [],
   "source": [
    "sentence = \"Hello World!\" \n",
    "\n",
    "# Load the pretrained tokenizer\n",
    "tokenizer = AutoTokenizer.from_pretrained(\"bert-base-cased\")"
   ]
  },
  {
   "cell_type": "code",
   "execution_count": 7,
   "id": "5496d101",
   "metadata": {},
   "outputs": [
    {
     "name": "stdout",
     "output_type": "stream",
     "text": [
      "Token IDs: [101, 8667, 1291, 106, 102]\n"
     ]
    }
   ],
   "source": [
    "# apply tokenizer to the sentence and extract the token ids\n",
    "token_ids = tokenizer(sentence).input_ids\n",
    "# Print the token ids\n",
    "print(\"Token IDs:\", token_ids)"
   ]
  },
  {
   "cell_type": "markdown",
   "id": "a15fac0b",
   "metadata": {},
   "source": [
    "Decoding the tokens"
   ]
  },
  {
   "cell_type": "code",
   "execution_count": 8,
   "id": "5202be57",
   "metadata": {},
   "outputs": [
    {
     "name": "stdout",
     "output_type": "stream",
     "text": [
      "Token : 101 - [CLS]\n",
      "Token : 8667 - Hello\n",
      "Token : 1291 - World\n",
      "Token : 106 - !\n",
      "Token : 102 - [SEP]\n"
     ]
    }
   ],
   "source": [
    "for id in token_ids:\n",
    "    print(f\"Token : {id} - {tokenizer.decode(id)}\")"
   ]
  },
  {
   "cell_type": "markdown",
   "id": "1df678b9",
   "metadata": {},
   "source": [
    "## Visualizing Tokenization"
   ]
  },
  {
   "cell_type": "code",
   "execution_count": 45,
   "id": "3d350275",
   "metadata": {},
   "outputs": [],
   "source": [
    "colors = [\n",
    "    '102;194;165', '252;141;98', '141;160;203',\n",
    "    '231;138;195', '166;216;84', '255;217;47'\n",
    "]"
   ]
  },
  {
   "cell_type": "code",
   "execution_count": 46,
   "id": "96332a90",
   "metadata": {},
   "outputs": [],
   "source": [
    "def show_tokens(sentence: str, tokenizer_name: str):\n",
    "    \"\"\" Show the tokens each separated by a different color \"\"\"\n",
    "\n",
    "    # Load the tokenizer and tokenize the input\n",
    "    tokenizer = AutoTokenizer.from_pretrained(tokenizer_name)\n",
    "    token_ids = tokenizer(sentence).input_ids\n",
    "\n",
    "    # Extract vocabulary length\n",
    "    print(f\"Vocab length: {len(tokenizer)}\")\n",
    "\n",
    "    # Print a colored list of tokens\n",
    "    for idx, t in enumerate(token_ids):\n",
    "        print(\n",
    "                f'\\x1b[{colors[idx % len(colors)]}m' +\n",
    "                tokenizer.decode(t) +\n",
    "                '\\x1b[0m',\n",
    "                end=' '\n",
    "        )"
   ]
  },
  {
   "cell_type": "markdown",
   "id": "146ef443",
   "metadata": {},
   "source": [
    "Sample text to test outher tokenizers"
   ]
  },
  {
   "cell_type": "code",
   "execution_count": 47,
   "id": "d6b69b59",
   "metadata": {},
   "outputs": [],
   "source": [
    "text = \"\"\"\n",
    "English and CAPITALIZATION\n",
    "🎵 鸟\n",
    "show_tokens False None elif == >= else: two tabs:\"    \" Three tabs: \"       \"\n",
    "12.0*50=600\n",
    "\"\"\""
   ]
  },
  {
   "cell_type": "markdown",
   "id": "a26514b4",
   "metadata": {},
   "source": [
    "#### tokenizer 1 : `bert-based-cased`"
   ]
  },
  {
   "cell_type": "code",
   "execution_count": 48,
   "id": "96943240",
   "metadata": {},
   "outputs": [
    {
     "name": "stdout",
     "output_type": "stream",
     "text": [
      "Vocab length: 28996\n",
      "\u001b[102;194;165m[CLS]\u001b[0m \u001b[252;141;98mEnglish\u001b[0m \u001b[141;160;203mand\u001b[0m \u001b[231;138;195mCA\u001b[0m \u001b[166;216;84m##PI\u001b[0m \u001b[255;217;47m##TA\u001b[0m \u001b[102;194;165m##L\u001b[0m \u001b[252;141;98m##I\u001b[0m \u001b[141;160;203m##Z\u001b[0m \u001b[231;138;195m##AT\u001b[0m \u001b[166;216;84m##ION\u001b[0m \u001b[255;217;47m[UNK]\u001b[0m \u001b[102;194;165m[UNK]\u001b[0m \u001b[252;141;98mshow\u001b[0m \u001b[141;160;203m_\u001b[0m \u001b[231;138;195mtoken\u001b[0m \u001b[166;216;84m##s\u001b[0m \u001b[255;217;47mF\u001b[0m \u001b[102;194;165m##als\u001b[0m \u001b[252;141;98m##e\u001b[0m \u001b[141;160;203mNone\u001b[0m \u001b[231;138;195mel\u001b[0m \u001b[166;216;84m##if\u001b[0m \u001b[255;217;47m=\u001b[0m \u001b[102;194;165m=\u001b[0m \u001b[252;141;98m>\u001b[0m \u001b[141;160;203m=\u001b[0m \u001b[231;138;195melse\u001b[0m \u001b[166;216;84m:\u001b[0m \u001b[255;217;47mtwo\u001b[0m \u001b[102;194;165mta\u001b[0m \u001b[252;141;98m##bs\u001b[0m \u001b[141;160;203m:\u001b[0m \u001b[231;138;195m\"\u001b[0m \u001b[166;216;84m\"\u001b[0m \u001b[255;217;47mThree\u001b[0m \u001b[102;194;165mta\u001b[0m \u001b[252;141;98m##bs\u001b[0m \u001b[141;160;203m:\u001b[0m \u001b[231;138;195m\"\u001b[0m \u001b[166;216;84m\"\u001b[0m \u001b[255;217;47m12\u001b[0m \u001b[102;194;165m.\u001b[0m \u001b[252;141;98m0\u001b[0m \u001b[141;160;203m*\u001b[0m \u001b[231;138;195m50\u001b[0m \u001b[166;216;84m=\u001b[0m \u001b[255;217;47m600\u001b[0m \u001b[102;194;165m[SEP]\u001b[0m "
     ]
    }
   ],
   "source": [
    "show_tokens(sentence=text, tokenizer_name='bert-base-cased')"
   ]
  },
  {
   "cell_type": "code",
   "execution_count": 49,
   "id": "8e296a4b",
   "metadata": {},
   "outputs": [
    {
     "name": "stdout",
     "output_type": "stream",
     "text": [
      "Vocab length: 30522\n",
      "\u001b[102;194;165m[CLS]\u001b[0m \u001b[252;141;98menglish\u001b[0m \u001b[141;160;203mand\u001b[0m \u001b[231;138;195mcapital\u001b[0m \u001b[166;216;84m##ization\u001b[0m \u001b[255;217;47m[UNK]\u001b[0m \u001b[102;194;165m[UNK]\u001b[0m \u001b[252;141;98mshow\u001b[0m \u001b[141;160;203m_\u001b[0m \u001b[231;138;195mtoken\u001b[0m \u001b[166;216;84m##s\u001b[0m \u001b[255;217;47mfalse\u001b[0m \u001b[102;194;165mnone\u001b[0m \u001b[252;141;98meli\u001b[0m \u001b[141;160;203m##f\u001b[0m \u001b[231;138;195m=\u001b[0m \u001b[166;216;84m=\u001b[0m \u001b[255;217;47m>\u001b[0m \u001b[102;194;165m=\u001b[0m \u001b[252;141;98melse\u001b[0m \u001b[141;160;203m:\u001b[0m \u001b[231;138;195mtwo\u001b[0m \u001b[166;216;84mtab\u001b[0m \u001b[255;217;47m##s\u001b[0m \u001b[102;194;165m:\u001b[0m \u001b[252;141;98m\"\u001b[0m \u001b[141;160;203m\"\u001b[0m \u001b[231;138;195mthree\u001b[0m \u001b[166;216;84mtab\u001b[0m \u001b[255;217;47m##s\u001b[0m \u001b[102;194;165m:\u001b[0m \u001b[252;141;98m\"\u001b[0m \u001b[141;160;203m\"\u001b[0m \u001b[231;138;195m12\u001b[0m \u001b[166;216;84m.\u001b[0m \u001b[255;217;47m0\u001b[0m \u001b[102;194;165m*\u001b[0m \u001b[252;141;98m50\u001b[0m \u001b[141;160;203m=\u001b[0m \u001b[231;138;195m600\u001b[0m \u001b[166;216;84m[SEP]\u001b[0m "
     ]
    }
   ],
   "source": [
    "show_tokens(text, \"bert-base-uncased\")"
   ]
  },
  {
   "cell_type": "code",
   "execution_count": null,
   "id": "b73ba9d5",
   "metadata": {},
   "outputs": [],
   "source": []
  }
 ],
 "metadata": {
  "kernelspec": {
   "display_name": "short_course",
   "language": "python",
   "name": "python3"
  },
  "language_info": {
   "codemirror_mode": {
    "name": "ipython",
    "version": 3
   },
   "file_extension": ".py",
   "mimetype": "text/x-python",
   "name": "python",
   "nbconvert_exporter": "python",
   "pygments_lexer": "ipython3",
   "version": "3.12.10"
  }
 },
 "nbformat": 4,
 "nbformat_minor": 5
}
